{
 "cells": [
  {
   "cell_type": "code",
   "execution_count": null,
   "metadata": {
    "collapsed": false
   },
   "outputs": [],
   "source": [
    "from pandas import Series, DataFrame\n",
    "import pandas as pd\n",
    "%pylab inline"
   ]
  },
  {
   "cell_type": "code",
   "execution_count": null,
   "metadata": {
    "collapsed": false
   },
   "outputs": [],
   "source": [
    "df = pd.read_csv('NYC_Restaurants.csv', dtype = unicode)"
   ]
  },
  {
   "cell_type": "markdown",
   "metadata": {
    "collapsed": true
   },
   "source": [
    "# Q1 Create a new column called RESTAURANT"
   ]
  },
  {
   "cell_type": "markdown",
   "metadata": {},
   "source": [
    "I concatenated 'DBA','BUILDING','STREET' and 'ZIPCODE' columns to for the new 'RESTAURANT' column."
   ]
  },
  {
   "cell_type": "code",
   "execution_count": 152,
   "metadata": {
    "collapsed": false
   },
   "outputs": [
    {
     "data": {
      "text/plain": [
       "0                    WENDY'S 469 FLATBUSH AVENUE 11225\n",
       "1                    WENDY'S 469 FLATBUSH AVENUE 11225\n",
       "2                    WENDY'S 469 FLATBUSH AVENUE 11225\n",
       "3                    WENDY'S 469 FLATBUSH AVENUE 11225\n",
       "4                    WENDY'S 469 FLATBUSH AVENUE 11225\n",
       "5               TOV KOSHER KITCHEN 97-22 63 ROAD 11374\n",
       "6               TOV KOSHER KITCHEN 97-22 63 ROAD 11374\n",
       "7               TOV KOSHER KITCHEN 97-22 63 ROAD 11374\n",
       "8               TOV KOSHER KITCHEN 97-22 63 ROAD 11374\n",
       "9    BRUNOS ON THE BOULEVARD 8825 ASTORIA BOULEVARD...\n",
       "Name: RESTAURANT, dtype: object"
      ]
     },
     "execution_count": 152,
     "metadata": {},
     "output_type": "execute_result"
    }
   ],
   "source": [
    "df['RESTAURANT']=df['DBA']+\" \"+df['BUILDING']+\" \"+df['STREET']+\" \"+df['ZIPCODE']\n",
    "df['RESTAURANT'][:10]"
   ]
  },
  {
   "cell_type": "markdown",
   "metadata": {
    "collapsed": true
   },
   "source": [
    "# Q2 Count the number of restaurants"
   ]
  },
  {
   "cell_type": "markdown",
   "metadata": {},
   "source": [
    "I used the unique function to get counts of restaurants with unique addresses, and got the number of unique restaurants by length output."
   ]
  },
  {
   "cell_type": "code",
   "execution_count": 153,
   "metadata": {
    "collapsed": false
   },
   "outputs": [
    {
     "name": "stdout",
     "output_type": "stream",
     "text": [
      "The number of restaurants in the data is 10114\n"
     ]
    }
   ],
   "source": [
    "counts=df['RESTAURANT'].unique()\n",
    "print \"The number of restaurants in the data is\", len(counts)"
   ]
  },
  {
   "cell_type": "markdown",
   "metadata": {
    "collapsed": true
   },
   "source": [
    "# Q3  How many chains are there"
   ]
  },
  {
   "cell_type": "markdown",
   "metadata": {},
   "source": [
    "1)I first took out duplicate records of same restaurants from the original dataset and formed a new set called df2.\n",
    "2)I counted the number of different brands and filtered out chains.\n",
    "3)Got the number of chains by taking its length."
   ]
  },
  {
   "cell_type": "code",
   "execution_count": 156,
   "metadata": {
    "collapsed": false
   },
   "outputs": [
    {
     "name": "stdout",
     "output_type": "stream",
     "text": [
      "The number of chain is 368\n"
     ]
    }
   ],
   "source": [
    "#take out duplicate records of restaurants\n",
    "df2=df.ix[df['RESTAURANT'].drop_duplicates().index]\n",
    "\n",
    "#Count the number of different brands\n",
    "DBACount=df2[\"DBA\"].value_counts()\n",
    "#filter out chains\n",
    "chains=DBACount[DBACount.values>1]\n",
    "print \"The number of chain is\", len(chains)"
   ]
  },
  {
   "cell_type": "markdown",
   "metadata": {
    "collapsed": true
   },
   "source": [
    "# Q4 Plot a graph of top 20 most popular chains"
   ]
  },
  {
   "cell_type": "markdown",
   "metadata": {},
   "source": [
    "I took the top 20 chains from Q3 results and plotted the graph."
   ]
  },
  {
   "cell_type": "code",
   "execution_count": 158,
   "metadata": {
    "collapsed": false
   },
   "outputs": [
    {
     "data": {
      "text/plain": [
       "<matplotlib.axes._subplots.AxesSubplot at 0xd4ca518>"
      ]
     },
     "execution_count": 158,
     "metadata": {},
     "output_type": "execute_result"
    },
    {
     "data": {
      "image/png": "[encoded data removed]",
      "text/plain": [
       "<matplotlib.figure.Figure at 0x1044c780>"
      ]
     },
     "metadata": {},
     "output_type": "display_data"
    }
   ],
   "source": [
    "top_20=chains[:20]\n",
    "top_20.plot(kind='bar')"
   ]
  },
  {
   "cell_type": "markdown",
   "metadata": {
    "collapsed": true
   },
   "source": [
    "# Q5 What fraction of all restaurants are chains?"
   ]
  },
  {
   "cell_type": "markdown",
   "metadata": {},
   "source": [
    "I took the sum of chains, which yields to the total number of chain restaurants under every chain brand. While len(counts) represents the number of all restaurants."
   ]
  },
  {
   "cell_type": "code",
   "execution_count": 159,
   "metadata": {
    "collapsed": false
   },
   "outputs": [
    {
     "name": "stdout",
     "output_type": "stream",
     "text": [
      "0.164722167293  of all resturants are chains.\n"
     ]
    }
   ],
   "source": [
    "#chains=DBACount[DBACount.values>1]\n",
    "fraction_of_chains=chains.sum()/float(len(counts))\n",
    "print fraction_of_chains,\" of all resturants are chains.\""
   ]
  },
  {
   "cell_type": "markdown",
   "metadata": {
    "collapsed": true
   },
   "source": [
    "# Q6 Plot the number of non-chain restaurants in each boro"
   ]
  },
  {
   "cell_type": "markdown",
   "metadata": {},
   "source": [
    "I first filtered out non-chain restaurants by adding a if-non-chain function and applied the function to DBA using map. Then I deleted the 'Missing'from BORO and counted the number of non-chain restaurants in each non 'Missing' boro."
   ]
  },
  {
   "cell_type": "code",
   "execution_count": 162,
   "metadata": {
    "collapsed": false
   },
   "outputs": [
    {
     "data": {
      "text/plain": [
       "<matplotlib.axes._subplots.AxesSubplot at 0xd4ca6d8>"
      ]
     },
     "execution_count": 162,
     "metadata": {},
     "output_type": "execute_result"
    },
    {
     "data": {
      "image/png": "[encoded data removed]",
      "text/plain": [
       "<matplotlib.figure.Figure at 0x10aea1d0>"
      ]
     },
     "metadata": {},
     "output_type": "display_data"
    }
   ],
   "source": [
    "#DBACount=df2[\"DBA\"].value_counts()\n",
    "\n",
    "non_chain=DBACount[DBACount.values==1]\n",
    "\n",
    "def if_non_chain(DBA):\n",
    "    return DBA in non_chain\n",
    "#filter out non_chain restaurants   \n",
    "mask1=df2['DBA'].map(if_non_chain)\n",
    "a=df2[mask1]\n",
    "#Delete boro values of 'Missing'\n",
    "mask2=(a['BORO']!='Missing')\n",
    "non_chain_boro=a[mask2]\n",
    "#Do value counts and plot the number of non-chain restaurants in each non 'Missing' boro\n",
    "non_chain_boro['BORO'].value_counts().plot(kind='bar')\n"
   ]
  },
  {
   "cell_type": "markdown",
   "metadata": {
    "collapsed": true
   },
   "source": [
    "# Q7 Plot the fraction of non-chain restaurants in each boro"
   ]
  },
  {
   "cell_type": "markdown",
   "metadata": {},
   "source": [
    "I got the number of non-chain resaurants from Q6. Also, I deleted 'Missing' values from 'boro' column and got the number of all restaurants in each boro by value counts."
   ]
  },
  {
   "cell_type": "code",
   "execution_count": 163,
   "metadata": {
    "collapsed": false
   },
   "outputs": [
    {
     "data": {
      "text/plain": [
       "<matplotlib.axes._subplots.AxesSubplot at 0xdeede48>"
      ]
     },
     "execution_count": 163,
     "metadata": {},
     "output_type": "execute_result"
    },
    {
     "data": {
      "image/png": "[encoded data removed]",
      "text/plain": [
       "<matplotlib.figure.Figure at 0x104376a0>"
      ]
     },
     "metadata": {},
     "output_type": "display_data"
    }
   ],
   "source": [
    "#number of non-chain restaurants in each boro\n",
    "c=non_chain_boro['BORO'].value_counts()\n",
    "#number of all restaurants in each boro\n",
    "all_boro=df2['BORO'][df2['BORO']!='Missing'].value_counts()\n",
    "fraction=c/all_boro\n",
    "fraction.plot(kind='bar')"
   ]
  },
  {
   "cell_type": "markdown",
   "metadata": {
    "collapsed": true
   },
   "source": [
    "# Q8 Plot the top 20popularity of cuisines"
   ]
  },
  {
   "cell_type": "markdown",
   "metadata": {},
   "source": [
    "I dropped the duplicate records first. Then counted the number of different cuisines under unique restaurants and plotted the top 20."
   ]
  },
  {
   "cell_type": "code",
   "execution_count": 164,
   "metadata": {
    "collapsed": false
   },
   "outputs": [
    {
     "data": {
      "text/plain": [
       "<matplotlib.axes._subplots.AxesSubplot at 0x95aebe0>"
      ]
     },
     "execution_count": 164,
     "metadata": {},
     "output_type": "execute_result"
    },
    {
     "data": {
      "image/png": "[encoded data removed]",
      "text/plain": [
       "<matplotlib.figure.Figure at 0x12bc8278>"
      ]
     },
     "metadata": {},
     "output_type": "display_data"
    }
   ],
   "source": [
    "# Drop duplicate records\n",
    "df3=df.drop_duplicates(subset=[\"CUISINE DESCRIPTION\",\"RESTAURANT\"])\n",
    "# Count the number of different cuisines\n",
    "popular_cuisine=df3[\"CUISINE DESCRIPTION\"].value_counts()\n",
    "#Plot top 20\n",
    "popular_cuisine[:20].plot(kind=\"bar\")"
   ]
  },
  {
   "cell_type": "markdown",
   "metadata": {
    "collapsed": true
   },
   "source": [
    "# Q9 Plot the cuisines among restaurants which never got cited for violations"
   ]
  },
  {
   "cell_type": "markdown",
   "metadata": {},
   "source": [
    "I established a mask to filter out cuisines that never got cited and applied it to the cuisines. From that point, I got clean cuisines. \n",
    "By taking value counts, I got the number of each clean cuisine and plotted the top20."
   ]
  },
  {
   "cell_type": "code",
   "execution_count": 128,
   "metadata": {
    "collapsed": false
   },
   "outputs": [
    {
     "data": {
      "text/plain": [
       "<matplotlib.axes._subplots.AxesSubplot at 0xc051e10>"
      ]
     },
     "execution_count": 128,
     "metadata": {},
     "output_type": "execute_result"
    },
    {
     "data": {
      "image/png": "[encoded data removed]",
      "text/plain": [
       "<matplotlib.figure.Figure at 0xbc6e668>"
      ]
     },
     "metadata": {},
     "output_type": "display_data"
    }
   ],
   "source": [
    "# take out duplicate records of restaurants\n",
    "df2=df.ix[df['RESTAURANT'].drop_duplicates().index]\n",
    "# Establish a mask to filter out cuisines that never got cited\n",
    "mask_no_violations=df2['VIOLATION CODE'].isnull()\n",
    "clean_cuisine=df2['CUISINE DESCRIPTION']\n",
    "clean=clean_cuisine[mask_no_violations]\n",
    "#take out top20\n",
    "cl = clean.value_counts()[:20]\n",
    "cl.plot(kind='bar')\n"
   ]
  },
  {
   "cell_type": "markdown",
   "metadata": {
    "collapsed": true
   },
   "source": [
    "# Q10 what cuisines tend to be the 'cleanest'"
   ]
  },
  {
   "cell_type": "markdown",
   "metadata": {},
   "source": [
    "First, I made a mask to filter out cuisines for which there were at least 20 restaurants representing. Then I used the Q9 results devided by numbers of cuisines that have at least 20 representitive restaurants.\n",
    "Also, I dropped NA values and sorted it."
   ]
  },
  {
   "cell_type": "code",
   "execution_count": 167,
   "metadata": {
    "collapsed": false
   },
   "outputs": [
    {
     "name": "stdout",
     "output_type": "stream",
     "text": [
      "Other              0.067961\n",
      "Irish              0.057143\n",
      "Asian              0.047945\n",
      "Chinese            0.042805\n",
      "Delicatessen       0.039216\n",
      "Thai               0.039062\n",
      "Bakery             0.036810\n",
      "Pizza              0.035270\n",
      "Donuts             0.034091\n",
      "Café/Coffee/Tea    0.032129\n",
      "Name: CUISINE DESCRIPTION, dtype: float64\n"
     ]
    }
   ],
   "source": [
    "# Select all cuisines for which there were at least 20 restaurants representing that cuisine.\n",
    "cuisine_counts=df2['CUISINE DESCRIPTION'].value_counts()\n",
    "cuisine_twenty=cuisine_counts[cuisine_counts>=20] \n",
    "\n",
    "#compute the ratio by dividing inspection past cuisines over the total number of rows for that cuisine.\n",
    "cleanest_ratio=(cl/cuisine_twenty).dropna().sort_values(ascending=False)[:10]\n",
    "print cleanest_ratio"
   ]
  },
  {
   "cell_type": "markdown",
   "metadata": {},
   "source": [
    "# Q11 What are the most common violations in each borough"
   ]
  },
  {
   "cell_type": "markdown",
   "metadata": {},
   "source": [
    "I used the crosstab function to create a table of numbers of times each violation description was ovserved in each borough. Then I deleted the 'Missing' values for boro and got the most common violations in each borough."
   ]
  },
  {
   "cell_type": "code",
   "execution_count": 168,
   "metadata": {
    "collapsed": false
   },
   "outputs": [
    {
     "name": "stdout",
     "output_type": "stream",
     "text": [
      "BORO\n",
      "BRONX            Non-food contact surface improperly constructe...\n",
      "BROOKLYN         Non-food contact surface improperly constructe...\n",
      "MANHATTAN        Non-food contact surface improperly constructe...\n",
      "QUEENS           Non-food contact surface improperly constructe...\n",
      "STATEN ISLAND    Non-food contact surface improperly constructe...\n",
      "dtype: object\n"
     ]
    }
   ],
   "source": [
    "d=pd.crosstab((df['VIOLATION DESCRIPTION'] ),df['BORO'])\n",
    "del d['Missing']\n",
    "print d.idxmax()\n"
   ]
  },
  {
   "cell_type": "markdown",
   "metadata": {
    "collapsed": true
   },
   "source": [
    "# Q12 What are the most common violations per borough"
   ]
  },
  {
   "cell_type": "markdown",
   "metadata": {},
   "source": [
    "I calculated the overall frequencies using numbers of each type of violations and the total number of violations. After that, I did normalization for each borough. Finally I transposed it back and got the most common violations per borough."
   ]
  },
  {
   "cell_type": "code",
   "execution_count": 170,
   "metadata": {
    "collapsed": false
   },
   "outputs": [
    {
     "name": "stdout",
     "output_type": "stream",
     "text": [
      "BORO\n",
      "BRONX                                  Unprotected food re-served.\n",
      "BROOKLYN         Precooked potentially hazardous food from comm...\n",
      "MANHATTAN        Out-of package sale of tobacco products observed.\n",
      "QUEENS           Caloric content range (minimum to maximum) not...\n",
      "STATEN ISLAND    Eggs found dirty/cracked; liquid, frozen or po...\n",
      "dtype: object\n"
     ]
    }
   ],
   "source": [
    "# Count each type of violations\n",
    "violation_counts=df['VIOLATION DESCRIPTION'].value_counts()\n",
    "# Get total number of violations\n",
    "all_violations=sum(violation_counts)\n",
    "#Calculate overall frequencies\n",
    "violation_frequency=violation_counts/all_violations\n",
    "#Normalization\n",
    "#d=pd.crosstab((df['VIOLATION DESCRIPTION'] ),df['BORO'])\n",
    "#del d['Missing']\n",
    "normalization=(d.T)/violation_frequency\n",
    "#Transpose back in order to conduct idxmax function\n",
    "normalization_violation=normalization.T\n",
    "\n",
    "print normalization_violation.idxmax()\n"
   ]
  },
  {
   "cell_type": "markdown",
   "metadata": {
    "collapsed": true
   },
   "source": [
    "# Q13 How many phone area codes correspond to a single zipcode"
   ]
  },
  {
   "cell_type": "code",
   "execution_count": 172,
   "metadata": {
    "collapsed": false
   },
   "outputs": [
    {
     "name": "stdout",
     "output_type": "stream",
     "text": [
      "34\n"
     ]
    }
   ],
   "source": [
    "#Extract the first 3 charaters of phone number\n",
    "#Add a column using the area code\n",
    "df['area_code']=len(df)*[None]\n",
    "for n in range(len(df)):\n",
    "    df['area_code'][n]=df['PHONE'][n][:3]\n",
    "#take out zipcode and area_code column and dropped the duplicate rows\n",
    "zip_area=df[['ZIPCODE','area_code']]\n",
    "zip_area_unique=zip_area.drop_duplicates()\n",
    "#count the number of each area code\n",
    "area_counts=zip_area_unique['area_code'].value_counts()\n",
    "#Select areacodes with one zipcode\n",
    "area_code_unique=area_counts[area_counts==1]\n",
    "#print the number\n",
    "print len(area_code_unique)"
   ]
  },
  {
   "cell_type": "markdown",
   "metadata": {
    "collapsed": true
   },
   "source": [
    "# Q14 Find common misspellings of street names"
   ]
  },
  {
   "cell_type": "markdown",
   "metadata": {},
   "source": [
    "A new table was created using the three new columns. I merged the table with itself after removing duplicates and empty street base. I then used cross-tabulation table to find the most commonly street type that occurs with each of the following:AVE, ST, RD, PL, BOULEARD, BULEVARD."
   ]
  },
  {
   "cell_type": "code",
   "execution_count": 174,
   "metadata": {
    "collapsed": false
   },
   "outputs": [
    {
     "name": "stdout",
     "output_type": "stream",
     "text": [
      "street_type_y\n",
      "AVE         AVENUE\n",
      "ST          STREET\n",
      "RD            ROAD\n",
      "PL           PLACE\n",
      "BOULEARD      BLVD\n",
      "BULEVARD      BLVD\n",
      "dtype: object\n"
     ]
    }
   ],
   "source": [
    "# Create street type column\n",
    "df['street_type']=len(df)*[None]\n",
    "for n in range(len(df)):\n",
    "    df['street_type'][n]=df['STREET'][n].split()[-1]\n",
    "# Create street base column\n",
    "df['street_base']=len(df)*[None]\n",
    "for n in range(len(df)):\n",
    "    df['street_base'][n]=' '.join(df['STREET'][n].split()[:-1])\n",
    "# Create combined column   \n",
    "df['street_base_zip']=df['street_base']+\" \"+df['ZIPCODE']\n",
    "\n",
    "# Create a table containnning the above three columns\n",
    "df_new=df[['street_type','street_base','street_base_zip']]\n",
    "# Remove duplicates\n",
    "df_new=df_new.drop_duplicates()\n",
    "#Remove instances where street base is empty\n",
    "df_new=df_new[df_new['street_base']<>'']\n",
    "\n",
    "# Merge with itself\n",
    "df_new_merge=pd.merge(df_new,df_new, left_on=['street_base_zip'], right_on=['street_base_zip'])\n",
    "# Select the rows where street types are different\n",
    "different_address=df_new_merge[df_new_merge['street_type_x'] <> df_new_merge['street_type_y']]\n",
    "\n",
    "# Cross-tabulation\n",
    "difference_counts = pd.crosstab(different_address['street_type_x'], different_address['street_type_y'])\n",
    "\n",
    "#find the most common street types for each of the requested street types\n",
    "print difference_counts[['AVE', 'ST', 'RD', 'PL', 'BOULEARD', 'BULEVARD']].idxmax()\n",
    "\n"
   ]
  }
 ],
 "metadata": {
  "anaconda-cloud": {},
  "kernelspec": {
   "display_name": "Python [Root]",
   "language": "python",
   "name": "Python [Root]"
  },
  "language_info": {
   "codemirror_mode": {
    "name": "ipython",
    "version": 2
   },
   "file_extension": ".py",
   "mimetype": "text/x-python",
   "name": "python",
   "nbconvert_exporter": "python",
   "pygments_lexer": "ipython2",
   "version": "2.7.12"
  }
 },
 "nbformat": 4,
 "nbformat_minor": 0
}
